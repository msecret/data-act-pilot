{
 "cells": [
  {
   "cell_type": "code",
   "execution_count": 19,
   "metadata": {
    "collapsed": false
   },
   "outputs": [],
   "source": [
    "import pandas as pd\n",
    "import numpy as np\n",
    "import seaborn as sns\n",
    "import matplotlib as mpl\n",
    "import matplotlib.pyplot as plt\n",
    "import glob\n",
    "\n",
    "%matplotlib inline"
   ]
  },
  {
   "cell_type": "markdown",
   "metadata": {},
   "source": [
    "## Pull in SGL Crosswalk\n",
    "This file (likely not yet finalized) matches sub-ledger data to DATA Act elements"
   ]
  },
  {
   "cell_type": "code",
   "execution_count": 20,
   "metadata": {
    "collapsed": true
   },
   "outputs": [],
   "source": [
    "sgl_crosswalk = pd.read_csv(\n",
    "    'data/other/sgl_account_element_crosswalk.csv',\n",
    "    dtype = {'code' : np.object}\n",
    ")"
   ]
  },
  {
   "cell_type": "markdown",
   "metadata": {},
   "source": [
    "## Create Financial Datasets"
   ]
  },
  {
   "cell_type": "markdown",
   "metadata": {},
   "source": [
    "### Read JAAMS Files"
   ]
  },
  {
   "cell_type": "code",
   "execution_count": 21,
   "metadata": {
    "collapsed": false,
    "scrolled": true
   },
   "outputs": [
    {
     "name": "stdout",
     "output_type": "stream",
     "text": [
      "Read 816 records from data/jaams/AP_CHECKS_ALL.txt\n",
      "Read 1210 records from data/jaams/AP_INVOICE_DISTRIBUTIONS_ALL.txt\n",
      "Read 1210 records from data/jaams/AP_INVOICE_LINES_ALL.txt\n",
      "Read 836 records from data/jaams/AP_INVOICE_PAYMENTS_ALL.txt\n",
      "Read 1209 records from data/jaams/AP_INVOICES_ALL.txt\n",
      "Read 322 records from data/jaams/AP_SUPPLIER_SITES_ALL.txt\n",
      "Read 312 records from data/jaams/AP_SUPPLIERS.txt\n",
      "Read 21 records from data/jaams/AP_TERMS_TL.txt\n",
      "Read 112 records from data/jaams/FV_FUND_PARAMETERS.txt\n",
      "Read 48 records from data/jaams/FV_TREASURY_SYMBOLS.txt\n",
      "Read 544 records from data/jaams/GL_CODE_COMBINATIONS.txt\n",
      "Read 18984 records from data/jaams/GL_IMPORT_REFERENCES.txt\n",
      "Read 1888 records from data/jaams/GL_JE_BATCHES.txt\n",
      "Read 5894 records from data/jaams/GL_JE_HEADERS.txt\n",
      "Read 19486 records from data/jaams/GL_JE_LINES.txt\n",
      "Read 259 records from data/jaams/HR_LOCATIONS_ALL.txt\n",
      "Read 30 records from data/jaams/MTL_CATEGORIES_B.txt\n",
      "Read 579 records from data/jaams/PO_DISTRIBUTIONS_ALL.txt\n",
      "Read 579 records from data/jaams/PO_HEADERS_ALL.txt\n",
      "Read 579 records from data/jaams/PO_LINE_LOCATIONS_ALL.txt\n",
      "Read 17 records from data/jaams/PO_LINE_TYPES_B.txt\n",
      "Read 579 records from data/jaams/PO_LINES_ALL.txt\n",
      "Read 441 records from data/jaams/PO_REQ_DISTRIBUTIONS_ALL.txt\n",
      "Read 441 records from data/jaams/PO_REQUISITION_HEADERS_ALL.txt\n",
      "Read 441 records from data/jaams/PO_REQUISITION_LINES_ALL.txt\n",
      "Read 5794 records from data/jaams/XLA_AE_HEADERS.txt\n",
      "Read 18766 records from data/jaams/XLA_AE_LINES.txt\n",
      "Read 56057 records from data/jaams/XLA_DISTRIBUTION_LINKS.txt\n",
      "Read 5794 records from data/jaams/XLA_EVENTS.txt\n",
      "Read 3721 records from data/jaams/XLA_TRANSACTION_ENTITIES.txt\n"
     ]
    }
   ],
   "source": [
    "def read_data(data_dir):\n",
    "    \"\"\"returns all .txt files in specified directory as a dict of DataFrames\"\"\"\n",
    "    files = glob.glob('data/{}/*.txt'.format(data_dir))\n",
    "    df_dict = {}\n",
    "    for file in files:\n",
    "        key = file.split('/')[-1][:-4].lower()\n",
    "        df_dict[key] = pd.read_csv(\n",
    "            file,\n",
    "            dtype = {'SEGMENT6' : np.object,\n",
    "                'PO_HEADER_ID': np.object,\n",
    "                'PO_LINE_ID': np.object,\n",
    "                'PO_DISTRIBUTION_ID': np.object,\n",
    "                'CODE_COMBINATION_ID': np.object,\n",
    "                'SEGMENT3': np.object,\n",
    "                'SEGMENT4': np.object,\n",
    "                'SEGMENT5': np.object,\n",
    "                'SEGMENT6': np.object,\n",
    "                'AE_HEADER_ID': np.object,\n",
    "                'AE_LINE_NUM': np.object,\n",
    "                'SOURCE_DISTRIBUTION_ID_NUM_1': np.object,\n",
    "                'INVOICE_ID': np.object,\n",
    "                'LINE_NUMBER': np.object,\n",
    "                'INVOICE_LINE_NUMBER': np.object,\n",
    "                'INVOICE_DISTRIBUTION_ID': np.object,\n",
    "                'DISTRIBUTION_ID': np.object} \n",
    "        )\n",
    "        rows = len(df_dict[key].index)\n",
    "        df_dict[key].rename(\n",
    "            columns=lambda x: '{}.'.format(key) + x.lower(), inplace = True)\n",
    "        print('Read {} records from {}'.format(\n",
    "            rows, file))\n",
    "    return df_dict\n",
    "jaams = read_data('jaams')\n",
    "#prism = read_data('prism')"
   ]
  },
  {
   "cell_type": "markdown",
   "metadata": {},
   "source": [
    "### Create Subledger DataFrame"
   ]
  },
  {
   "cell_type": "code",
   "execution_count": 22,
   "metadata": {
    "collapsed": false
   },
   "outputs": [
    {
     "name": "stdout",
     "output_type": "stream",
     "text": [
      "starting: xlalines rows = 18766\n",
      "after xladist merge: 18987 rows\n",
      "after glcode merge: 18987 rows\n",
      "after sgl crosswalk merge: 8760 rows\n"
     ]
    }
   ],
   "source": [
    "xladist = jaams['xla_distribution_links']\n",
    "xlalines = jaams['xla_ae_lines']\n",
    "glcode = jaams['gl_code_combinations']\n",
    "print ('starting: xlalines rows = {}'.format(len(xlalines.index)))\n",
    "sgl = pd.merge(\n",
    "    xladist,\n",
    "    xlalines,\n",
    "    left_on = ['xla_distribution_links.ae_header_id', 'xla_distribution_links.ae_line_num'],\n",
    "    right_on = ['xla_ae_lines.ae_header_id', 'xla_ae_lines.ae_line_num']\n",
    ")\n",
    "print ('after xladist merge: {} rows'.format(len(sgl.index)))\n",
    "#merge in code combination lookup for SGL account\n",
    "sgl = pd.merge(\n",
    "    sgl,\n",
    "    glcode,\n",
    "    left_on = ['xla_ae_lines.code_combination_id'],\n",
    "    right_on = ['gl_code_combinations.code_combination_id']\n",
    ")\n",
    "print ('after glcode merge: {} rows'.format(len(sgl.index)))\n",
    "sgl = sgl.rename(\n",
    "    columns = {'gl_code_combinations.segment6' : 'gl_code_combinations.sgl_account'}\n",
    ")\n",
    "sgl = pd.merge(\n",
    "    sgl,\n",
    "    sgl_crosswalk,\n",
    "    left_on = ['gl_code_combinations.sgl_account'],\n",
    "    right_on = ['sgl_account']\n",
    "    )\n",
    "print ('after sgl crosswalk merge: {} rows'.format(len(sgl.index)))\n",
    "sgl = sgl[['xla_ae_lines.ae_header_id', \n",
    "   'xla_ae_lines.ae_line_num',\n",
    "   'xla_ae_lines.accounted_dr',\n",
    "   'xla_ae_lines.accounted_cr',\n",
    "   'xla_distribution_links.source_distribution_id_num_1',\n",
    "   'xla_distribution_links.source_distribution_type',\n",
    "   'gl_code_combinations.sgl_account',\n",
    "    'data_act_element',\n",
    "    'code_description']]"
   ]
  },
  {
   "cell_type": "markdown",
   "metadata": {},
   "source": [
    "### Create Purchase Orders DataFrame"
   ]
  },
  {
   "cell_type": "code",
   "execution_count": 23,
   "metadata": {
    "collapsed": false,
    "scrolled": false
   },
   "outputs": [
    {
     "name": "stdout",
     "output_type": "stream",
     "text": [
      "starting: headers_all rows = 579\n",
      "after po_lines_all merge: 1197 rows\n",
      "after po_line_locations merge: 1197 rows\n",
      "after po_distributions_all merge: 1197 rows\n",
      "after gl_code_combinations merge: 1145 rows\n",
      "after sgl merge: 2054 rows\n",
      "after fv_fund merge: 2054 rows\n"
     ]
    }
   ],
   "source": [
    "# join po data\n",
    "po = pd.DataFrame()\n",
    "poh = jaams['po_headers_all'][['po_headers_all.po_header_id', 'po_headers_all.segment1']]\n",
    "pol = jaams['po_lines_all'][['po_lines_all.po_header_id', 'po_lines_all.po_line_id', 'po_lines_all.item_description', 'po_lines_all.quantity','po_lines_all.unit_price']]\n",
    "poll = jaams['po_line_locations_all'][['po_line_locations_all.po_line_id']]\n",
    "pod = jaams['po_distributions_all'][['po_distributions_all.po_distribution_id', 'po_distributions_all.po_header_id', 'po_distributions_all.po_line_id', 'po_distributions_all.code_combination_id', 'po_distributions_all.attribute10','po_distributions_all.attribute11', 'po_distributions_all.attribute_category', 'po_distributions_all.quantity_billed', 'po_distributions_all.req_distribution_id']]\n",
    "fv_fund = jaams['fv_fund_parameters']\n",
    "fv_tas = jaams['fv_treasury_symbols']\n",
    "print ('starting: headers_all rows = {}'.format(len(poh.index)))\n",
    "po = pd.merge(\n",
    "    poh,\n",
    "    pol,\n",
    "    left_on = ['po_headers_all.po_header_id'],\n",
    "    right_on = ['po_lines_all.po_header_id']\n",
    "    )\n",
    "print ('after po_lines_all merge: {} rows'.format(len(po.index)))\n",
    "po = pd.merge(\n",
    "    po,\n",
    "    poll,\n",
    "    left_on = ['po_lines_all.po_line_id'],\n",
    "    right_on = ['po_line_locations_all.po_line_id']\n",
    ")\n",
    "print ('after po_line_locations merge: {} rows'.format(len(po.index)))\n",
    "po = pd.merge(\n",
    "    po,\n",
    "    pod,\n",
    "    left_on = ['po_lines_all.po_line_id'],\n",
    "    right_on = ['po_distributions_all.po_line_id']\n",
    ")\n",
    "print ('after po_distributions_all merge: {} rows'.format(len(po.index)))\n",
    "po.to_csv('data/jaams_po_before_gl_code_combinations_merge.csv', index = False)\n",
    "po = pd.merge(\n",
    "    po,\n",
    "    glcode,\n",
    "    left_on = ['po_distributions_all.code_combination_id'],\n",
    "    right_on = ['gl_code_combinations.code_combination_id']\n",
    ")\n",
    "print ('after gl_code_combinations merge: {} rows'.format(len(po.index)))\n",
    "po = pd.merge(\n",
    "    po,\n",
    "    sgl[sgl['xla_distribution_links.source_distribution_type'] == 'PO_DISTRIBUTIONS_ALL'],\n",
    "    how = 'left',\n",
    "    left_on = ['po_distributions_all.po_distribution_id'],\n",
    "    right_on = ['xla_distribution_links.source_distribution_id_num_1']\n",
    ")\n",
    "print ('after sgl merge: {} rows'.format(len(po.index)))\n",
    "#grab TAS\n",
    "po = pd.merge(\n",
    "    po,\n",
    "    fv_fund,\n",
    "    left_on = 'gl_code_combinations.segment2',\n",
    "    right_on = 'fv_fund_parameters.fund_value'\n",
    "    )\n",
    "po = pd.merge(\n",
    "    po,\n",
    "    fv_tas,\n",
    "    left_on = 'fv_fund_parameters.treasury_symbol_id',\n",
    "    right_on = 'fv_treasury_symbols.treasury_symbol_id')\n",
    "print ('after fv_fund merge: {} rows'.format(len(po.index)))\n",
    "\n",
    "#tidy up\n",
    "po = po[['po_headers_all.po_header_id',\n",
    "    'po_lines_all.po_line_id',\n",
    "    'po_distributions_all.po_distribution_id',\n",
    "    'po_distributions_all.req_distribution_id',\n",
    "    'po_headers_all.segment1', #award number\n",
    "    'po_lines_all.item_description',\n",
    "    'po_lines_all.quantity',\n",
    "    'po_lines_all.unit_price',\n",
    "    'po_distributions_all.quantity_billed',\n",
    "    'po_distributions_all.code_combination_id',\n",
    "    'po_distributions_all.attribute10', #period of performance start dt\n",
    "    'po_distributions_all.attribute11', #period of performance end dt\n",
    "    'gl_code_combinations.segment3', #funding office\n",
    "    'gl_code_combinations.segment4', #program activity\n",
    "    'gl_code_combinations.segment5', #object class\n",
    "    'fv_treasury_symbols.treasury_symbol', #tas\n",
    "    'xla_ae_lines.ae_header_id',\n",
    "    'xla_ae_lines.ae_line_num',\n",
    "    'xla_ae_lines.accounted_dr',\n",
    "    'xla_ae_lines.accounted_cr',\n",
    "    'gl_code_combinations.sgl_account',\n",
    "    'data_act_element',\n",
    "    'code_description'        \n",
    "    ]]\n",
    "\n",
    "#combine debits and credits into a single columns\n",
    "def get_value(row):\n",
    "    credit = row['xla_ae_lines.accounted_cr']\n",
    "    debit = row['xla_ae_lines.accounted_dr']\n",
    "    if pd.isnull(debit):\n",
    "        return credit\n",
    "    else:\n",
    "        return debit * -1\n",
    "po['xla_ae_lines.accounted_amt'] = po.apply(lambda row: get_value(row),axis=1)\n",
    "po.to_csv('data/jaams_po.csv', index = False)\n",
    "\n",
    "#aggregate\n",
    "po_agg = pd.pivot_table(po,\n",
    "    index=['po_headers_all.po_header_id',\n",
    "    'po_lines_all.po_line_id',\n",
    "    'po_distributions_all.po_distribution_id',\n",
    "    'po_distributions_all.req_distribution_id',\n",
    "    'po_headers_all.segment1',\n",
    "    'po_lines_all.item_description',\n",
    "    'xla_ae_lines.ae_header_id',\n",
    "    'xla_ae_lines.ae_line_num',\n",
    "    'po_distributions_all.attribute10', #period of performance start dt\n",
    "    'po_distributions_all.attribute11', #period of performance end dt\n",
    "    'gl_code_combinations.segment3', #funding office\n",
    "    'gl_code_combinations.segment4', #program activity\n",
    "    'gl_code_combinations.segment5',\n",
    "    'fv_treasury_symbols.treasury_symbol'],\n",
    "    columns = ['data_act_element'],\n",
    "    values = ['xla_ae_lines.accounted_amt']\n",
    ")\n",
    "po_agg = po_agg.groupby(\n",
    "    level=['po_headers_all.po_header_id',\n",
    "    'po_lines_all.po_line_id',\n",
    "    'po_distributions_all.po_distribution_id',\n",
    "    'po_distributions_all.req_distribution_id',\n",
    "    'po_headers_all.segment1',\n",
    "    'po_lines_all.item_description',\n",
    "    'po_distributions_all.attribute10', #period of performance start dt\n",
    "    'po_distributions_all.attribute11', #period of performance end dt\n",
    "    'gl_code_combinations.segment3', #funding office\n",
    "    'gl_code_combinations.segment4', #program activity\n",
    "    'gl_code_combinations.segment5',\n",
    "    'fv_treasury_symbols.treasury_symbol']\n",
    ").sum()\n",
    "po_agg.columns = po_agg.columns.get_level_values(1)\n",
    "po_agg.to_csv('data/jaams_po_pivot.csv')"
   ]
  },
  {
   "cell_type": "markdown",
   "metadata": {},
   "source": [
    "### Create Invoice Distributions DataFrame"
   ]
  },
  {
   "cell_type": "code",
   "execution_count": 24,
   "metadata": {
    "collapsed": false
   },
   "outputs": [
    {
     "name": "stdout",
     "output_type": "stream",
     "text": [
      "starting: invoice_distributions rows = 1210\n",
      "after sgl merge: 1736 rows\n",
      "after po merge: 439 rows\n"
     ]
    }
   ],
   "source": [
    "aida = jaams['ap_invoice_distributions_all']\n",
    "print ('starting: invoice_distributions rows = {}'.format(len(aida.index)))\n",
    "invd = pd.merge(\n",
    "    aida,\n",
    "    sgl[sgl['xla_distribution_links.source_distribution_type'] == 'AP_INV_DIST'],\n",
    "    left_on = ['ap_invoice_distributions_all.invoice_distribution_id'],\n",
    "    right_on = ['xla_distribution_links.source_distribution_id_num_1']\n",
    "    )\n",
    "print ('after sgl merge: {} rows'.format(len(invd.index)))\n",
    "\n",
    "#tidy up\n",
    "invd = invd[[\n",
    "    'ap_invoice_distributions_all.po_distribution_id',\n",
    "    'xla_ae_lines.ae_header_id',\n",
    "    'xla_ae_lines.ae_line_num',\n",
    "    'xla_ae_lines.accounted_dr',\n",
    "    'xla_ae_lines.accounted_cr',\n",
    "    'data_act_element'     \n",
    "    ]]\n",
    "\n",
    "#combine debits and credits into a single columns\n",
    "def get_value(row):\n",
    "    credit = row['xla_ae_lines.accounted_cr']\n",
    "    debit = row['xla_ae_lines.accounted_dr']\n",
    "    if pd.isnull(debit):\n",
    "        return credit\n",
    "    else:\n",
    "        return debit * -1\n",
    "invd['xla_ae_lines.accounted_amt'] = invd.apply(lambda row: get_value(row),axis=1)\n",
    "invd.to_csv('data/jaams_invd.csv', index = False)\n",
    "\n",
    "#aggregate\n",
    "invd_agg = pd.pivot_table(invd,\n",
    "    index=[\n",
    "        'ap_invoice_distributions_all.po_distribution_id',\n",
    "        'xla_ae_lines.ae_header_id',\n",
    "        'xla_ae_lines.ae_line_num',\n",
    "    ],\n",
    "    columns = ['data_act_element'],\n",
    "    values = ['xla_ae_lines.accounted_amt']\n",
    ")\n",
    "invd_agg = invd_agg.groupby(\n",
    "    level=['ap_invoice_distributions_all.po_distribution_id']\n",
    "    ).sum()\n",
    "invd_agg.columns = invd_agg.columns.get_level_values(1)\n",
    "invd_agg.reset_index(inplace = True)\n",
    "po_agg.reset_index(inplace = True)\n",
    "invd_agg.to_csv('data/jaams_invd_pivot.csv')\n",
    "\n",
    "# join this to po distributions\n",
    "po_agg = pd.merge(\n",
    "    po_agg,\n",
    "    invd_agg,\n",
    "    left_on = 'po_distributions_all.po_distribution_id',\n",
    "    right_on = 'ap_invoice_distributions_all.po_distribution_id',\n",
    "    how = 'left',\n",
    "    suffixes = ('_po', '_inv')  \n",
    ")\n",
    "print ('after po merge: {} rows'.format(len(po_agg.index)))\n",
    "\n",
    "# math!\n",
    "po_agg['obligated_amt'] = po_agg['account_obligation_amt_po'] + po_agg['account_obligation_amt_inv']\n",
    "po_agg = po_agg.rename(columns = {'account_outlay_amt' : 'outlay_amt'})\n",
    "#po_agg.drop(po_agg.columns[[10,11,12,13]],axis = 1, inplace = True)\n",
    "\n",
    "po_agg.to_csv('data/jaams_subledger_agg.csv', index = False)"
   ]
  }
 ],
 "metadata": {
  "kernelspec": {
   "display_name": "Python 2",
   "language": "python",
   "name": "python2"
  },
  "language_info": {
   "codemirror_mode": {
    "name": "ipython",
    "version": 2
   },
   "file_extension": ".py",
   "mimetype": "text/x-python",
   "name": "python",
   "nbconvert_exporter": "python",
   "pygments_lexer": "ipython2",
   "version": "2.7.9"
  }
 },
 "nbformat": 4,
 "nbformat_minor": 0
}
